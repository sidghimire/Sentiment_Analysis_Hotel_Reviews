{
 "cells": [
  {
   "cell_type": "code",
   "execution_count": 124,
   "id": "258308f7-c623-42f6-b79c-b192d0bcc350",
   "metadata": {},
   "outputs": [],
   "source": [
    "import pandas as pd\n",
    "import numpy as np\n",
    "from sklearn.feature_extraction.text import re\n",
    "from sklearn.feature_extraction.text import TfidfVectorizer\n",
    "from sklearn.model_selection import train_test_split\n",
    "from sklearn.linear_model import LogisticRegression\n",
    "from sklearn.metrics import accuracy_score"
   ]
  },
  {
   "cell_type": "code",
   "execution_count": 125,
   "id": "81c0e15a-28b7-48cb-8f9d-485c5f2a0bd3",
   "metadata": {},
   "outputs": [],
   "source": [
    "df=pd.read_csv('tripadvisor_hotel_reviews.csv')"
   ]
  },
  {
   "cell_type": "code",
   "execution_count": 126,
   "id": "81ad5d26-ebde-48e2-b59d-c9a564cadffd",
   "metadata": {},
   "outputs": [],
   "source": [
    "def create_sentiment(rating):\n",
    "    if rating==1  :\n",
    "        return -1\n",
    "    elif rating==4 or rating==5 or rating==3 or rating==2:\n",
    "        return 1\n",
    "    else:\n",
    "        return 0"
   ]
  },
  {
   "cell_type": "code",
   "execution_count": 127,
   "id": "d3a25bfc-1786-49f1-b712-d2b5af672947",
   "metadata": {},
   "outputs": [],
   "source": [
    "df['Sentiment']=df['Rating'].apply(create_sentiment)"
   ]
  },
  {
   "cell_type": "code",
   "execution_count": 128,
   "id": "85e0b467-d492-4ec2-bd37-425eddd8c0fc",
   "metadata": {},
   "outputs": [],
   "source": [
    "def clean_data(review):\n",
    "    no_punc=re.sub(r'[^\\w\\s]','',review)\n",
    "    no_digits=''.join([i for i in no_punc if not i.isdigit()])\n",
    "    return no_digits.lower()"
   ]
  },
  {
   "cell_type": "code",
   "execution_count": 129,
   "id": "2a23f899-0da5-40c0-ac3f-9c3556363929",
   "metadata": {},
   "outputs": [],
   "source": [
    "df['Review']=df['Review'].apply(clean_data)\n"
   ]
  },
  {
   "cell_type": "code",
   "execution_count": 130,
   "id": "9ba5637b-bf4b-47ef-9991-1a573e760381",
   "metadata": {},
   "outputs": [],
   "source": [
    "tfidf=TfidfVectorizer(strip_accents=None,lowercase=True,preprocessor=None)\n",
    "X=tfidf.fit_transform(df['Review'])"
   ]
  },
  {
   "cell_type": "code",
   "execution_count": 131,
   "id": "c1f10d8d-00ec-4c28-b828-8eaf8db2eae2",
   "metadata": {},
   "outputs": [],
   "source": [
    "y=df['Sentiment']\n",
    "X_train,X_test,y_train,y_test=train_test_split(X,y)"
   ]
  },
  {
   "cell_type": "code",
   "execution_count": 132,
   "id": "08b4581f-44bf-40b8-9481-f7666598c0c6",
   "metadata": {},
   "outputs": [
    {
     "data": {
      "text/plain": [
       "<15368x76098 sparse matrix of type '<class 'numpy.float64'>'\n",
       "\twith 1246216 stored elements in Compressed Sparse Row format>"
      ]
     },
     "execution_count": 132,
     "metadata": {},
     "output_type": "execute_result"
    }
   ],
   "source": [
    "X_train"
   ]
  },
  {
   "cell_type": "code",
   "execution_count": 133,
   "id": "148edb13-9031-4600-97c1-03c260969d17",
   "metadata": {},
   "outputs": [],
   "source": [
    "lr=LogisticRegression(solver='newton-cg')\n",
    "lr.fit(X_train,y_train)\n",
    "preds=lr.predict(X_test)"
   ]
  },
  {
   "cell_type": "code",
   "execution_count": 134,
   "id": "28f3fb65-eec4-4a38-8c6e-c567b96a098b",
   "metadata": {},
   "outputs": [
    {
     "data": {
      "text/plain": [
       "0.944954128440367"
      ]
     },
     "execution_count": 134,
     "metadata": {},
     "output_type": "execute_result"
    }
   ],
   "source": [
    "accuracy_score(preds,y_test)"
   ]
  },
  {
   "cell_type": "code",
   "execution_count": 34,
   "id": "686579a1-228c-48db-9a4b-e61b5bf0362a",
   "metadata": {},
   "outputs": [
    {
     "name": "stdout",
     "output_type": "stream",
     "text": [
      "Positive Comment\n"
     ]
    }
   ],
   "source": [
    "my_review=\"pleasent clean room\"\n",
    "cleaned_input=clean_data(my_review)\n",
    "input_review_tfidf=tfidf.transform([cleaned_input])\n",
    "prediction=lr.predict(input_review_tfidf)\n",
    "\n",
    "if prediction[0]==-1:\n",
    "    print('Negative Comment')\n",
    "elif prediction[0]==0:\n",
    "    print(\"Neutral Comment\")\n",
    "else:\n",
    "    print(\"Positive Comment\")"
   ]
  },
  {
   "cell_type": "code",
   "execution_count": null,
   "id": "ead69d27-3801-45e8-ac8b-f1fc54583601",
   "metadata": {},
   "outputs": [],
   "source": []
  }
 ],
 "metadata": {
  "kernelspec": {
   "display_name": "Python 3 (ipykernel)",
   "language": "python",
   "name": "python3"
  },
  "language_info": {
   "codemirror_mode": {
    "name": "ipython",
    "version": 3
   },
   "file_extension": ".py",
   "mimetype": "text/x-python",
   "name": "python",
   "nbconvert_exporter": "python",
   "pygments_lexer": "ipython3",
   "version": "3.11.6"
  }
 },
 "nbformat": 4,
 "nbformat_minor": 5
}
